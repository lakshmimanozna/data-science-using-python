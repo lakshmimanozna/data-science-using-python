{
 "cells": [
  {
   "cell_type": "markdown",
   "metadata": {},
   "source": [
    "\n",
    "# functions arguments\n",
    "1.required arguments or fixed\n",
    "2.keyword\"-in this we r passing keyword\n",
    "3.default\"\n",
    "4.variable length \"-"
   ]
  },
  {
   "cell_type": "code",
   "execution_count": null,
   "metadata": {
    "collapsed": true
   },
   "outputs": [],
   "source": [
    "function defnition in c--\n",
    "\n",
    "\n",
    "returntype functionname(arguments){\n",
    "    body of the function\n",
    "    return value;\n",
    "    }\n",
    "functionname(arguments);\n",
    "receving variable=functionname(arguments);"
   ]
  },
  {
   "cell_type": "code",
   "execution_count": null,
   "metadata": {
    "collapsed": true
   },
   "outputs": [],
   "source": [
    "function defnition in python---\n",
    "\n",
    "\n",
    "def functionname(arguments):\n",
    "    docstring\n",
    "    body of the function\n",
    "    return value\n",
    "receving variable=functionname(arguments)"
   ]
  },
  {
   "cell_type": "code",
   "execution_count": 3,
   "metadata": {
    "collapsed": false
   },
   "outputs": [
    {
     "name": "stdout",
     "output_type": "stream",
     "text": [
      "5\n"
     ]
    }
   ],
   "source": [
    "def add(a,b):\n",
    "    'this function is used to perform addition of two nums'\n",
    "    return a+b\n",
    "c= add(2,3)\n",
    "print(c)"
   ]
  },
  {
   "cell_type": "code",
   "execution_count": null,
   "metadata": {
    "collapsed": true
   },
   "outputs": [],
   "source": [
    "add()   //function name+shift+tab gives the docstring"
   ]
  },
  {
   "cell_type": "markdown",
   "metadata": {},
   "source": [
    "# default argument example"
   ]
  },
  {
   "cell_type": "code",
   "execution_count": 8,
   "metadata": {
    "collapsed": false
   },
   "outputs": [
    {
     "name": "stdout",
     "output_type": "stream",
     "text": [
      "0\n",
      "1\n",
      "-1\n"
     ]
    }
   ],
   "source": [
    "def sub(a=0,b=0):\n",
    "    return a-b\n",
    "print(sub())\n",
    "print(sub(1))\n",
    "print(sub(3,4))"
   ]
  },
  {
   "cell_type": "code",
   "execution_count": 12,
   "metadata": {
    "collapsed": false
   },
   "outputs": [
    {
     "name": "stdout",
     "output_type": "stream",
     "text": [
      "-1\n",
      "1\n"
     ]
    }
   ],
   "source": [
    "def sub(b,a=0):                //declare default values from left to right\n",
    "    return a-b\n",
    "print(sub(1))\n",
    "print(sub(3,4))"
   ]
  },
  {
   "cell_type": "markdown",
   "metadata": {},
   "source": [
    "# keyword argument examples"
   ]
  },
  {
   "cell_type": "code",
   "execution_count": 14,
   "metadata": {
    "collapsed": false
   },
   "outputs": [
    {
     "name": "stdout",
     "output_type": "stream",
     "text": [
      "-1\n",
      "-5\n"
     ]
    }
   ],
   "source": [
    "def sub(a,b,c=0):\n",
    "    return a-b-c\n",
    "print(sub(1,b=2))\n",
    "print(sub(c=2,a=3,b=6))\n",
    "print(sub(b=2,1))#error            //required argument should follow the keyword argument"
   ]
  },
  {
   "cell_type": "markdown",
   "metadata": {},
   "source": [
    "# variable length argument"
   ]
  },
  {
   "cell_type": "code",
   "execution_count": 17,
   "metadata": {
    "collapsed": false
   },
   "outputs": [
    {
     "name": "stdout",
     "output_type": "stream",
     "text": [
      "5\n",
      "25\n"
     ]
    }
   ],
   "source": [
    "def add(a,b,*arg):\n",
    "    c=a+b\n",
    "    for x in arg:\n",
    "        c=c+x\n",
    "    return c\n",
    "print(add(2,3))\n",
    "print(add(2,7,3,2,3,8))"
   ]
  }
 ],
 "metadata": {
  "anaconda-cloud": {},
  "kernelspec": {
   "display_name": "Python [conda root]",
   "language": "python",
   "name": "conda-root-py"
  },
  "language_info": {
   "codemirror_mode": {
    "name": "ipython",
    "version": 3
   },
   "file_extension": ".py",
   "mimetype": "text/x-python",
   "name": "python",
   "nbconvert_exporter": "python",
   "pygments_lexer": "ipython3",
   "version": "3.5.2"
  }
 },
 "nbformat": 4,
 "nbformat_minor": 1
}
